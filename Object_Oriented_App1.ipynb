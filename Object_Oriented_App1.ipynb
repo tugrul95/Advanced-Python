{
  "nbformat": 4,
  "nbformat_minor": 0,
  "metadata": {
    "colab": {
      "name": "Object_Oriented_App1.ipynb",
      "provenance": []
    },
    "kernelspec": {
      "name": "python3",
      "display_name": "Python 3"
    },
    "language_info": {
      "name": "python"
    }
  },
  "cells": [
    {
      "cell_type": "code",
      "metadata": {
        "colab": {
          "base_uri": "https://localhost:8080/"
        },
        "id": "eCRVQkE-7XLb",
        "outputId": "89ed5484-1243-48d7-fb15-8a69fda4278d"
      },
      "source": [
        "from random import randint\n",
        " \n",
        "class Point:\n",
        " \n",
        "    def __init__(self, x, y):\n",
        "        self.x = x\n",
        "        self.y = y\n",
        " \n",
        "    def falls_in_rectangle(self, rectangle):\n",
        "        if rectangle.point1.x < self.x < rectangle.point2.x \\\n",
        "                and rectangle.point1.y < self.y < rectangle.point2.y:\n",
        "            return True\n",
        "        else:\n",
        "            return False\n",
        " \n",
        " \n",
        "class Rectangle:\n",
        " \n",
        "    def __init__(self, point1, point2):\n",
        "        self.point1 = point1\n",
        "        self.point2 = point2\n",
        " \n",
        "    def area(self):\n",
        "        return (self.point2.x - self.point1.x) * \\\n",
        "               (self.point2.y - self.point1.y)\n",
        " \n",
        " \n",
        "# Create rectangle object\n",
        "rectangle = Rectangle(Point(randint(0, 9), randint(0, 9)), \n",
        "              Point(randint(10, 19), randint(10, 19)))\n",
        " \n",
        "# Print rectangle coordinates\n",
        "print(\"Rectangle Coordinates: \",\n",
        "      rectangle.point1.x, \",\",\n",
        "      rectangle.point1.y, \"and\",\n",
        "      rectangle.point2.x, \",\",\n",
        "      rectangle.point2.y)\n",
        " \n",
        "# Get point and area from user\n",
        "user_point = Point(float(input(\"Guess x: \")), float(input(\"Guess y: \")))\n",
        "user_area = float(input(\"Guess rectangle area: \"))\n",
        " \n",
        "# Print out the game result\n",
        "print(\"Your point was inside rectangle: \", user_point.falls_in_rectangle(rectangle))\n",
        "print(\"Your area was off by: \", rectangle.area() - user_area)\n"
      ],
      "execution_count": 1,
      "outputs": [
        {
          "output_type": "stream",
          "name": "stdout",
          "text": [
            "Rectangle Coordinates:  9 , 9 and 17 , 19\n",
            "Guess x: 10\n",
            "Guess y: 10\n",
            "Guess rectangle area: 100\n",
            "Your point was inside rectangle:  True\n",
            "Your area was off by:  -20.0\n"
          ]
        }
      ]
    },
    {
      "cell_type": "code",
      "metadata": {
        "id": "csTIz2on7asK"
      },
      "source": [
        ""
      ],
      "execution_count": null,
      "outputs": []
    }
  ]
}